{
 "cells": [
  {
   "cell_type": "code",
   "execution_count": 2,
   "metadata": {},
   "outputs": [
    {
     "name": "stderr",
     "output_type": "stream",
     "text": [
      "C:\\Users\\taher\\AppData\\Local\\Temp\\ipykernel_13272\\2783045562.py:1: DeprecationWarning: \n",
      "Pyarrow will become a required dependency of pandas in the next major release of pandas (pandas 3.0),\n",
      "(to allow more performant data types, such as the Arrow string type, and better interoperability with other libraries)\n",
      "but was not found to be installed on your system.\n",
      "If this would cause problems for you,\n",
      "please provide us feedback at https://github.com/pandas-dev/pandas/issues/54466\n",
      "        \n",
      "  import pandas as pd\n"
     ]
    }
   ],
   "source": [
    "import pandas as pd\n",
    "import matplotlib.pyplot as plt\n",
    "from sklearn import model_selection\n",
    "import numpy as np"
   ]
  },
  {
   "cell_type": "code",
   "execution_count": 3,
   "id": "ab8639ec",
   "metadata": {},
   "outputs": [],
   "source": [
    "# Import data\n",
    "train_inputs = pd.read_csv('train_inputs.csv', header=None)\n",
    "train_targets = pd.read_csv('train_targets.csv', header=None)\n",
    "\n",
    "test_inputs = pd.read_csv('test_inputs.csv', header=None)\n",
    "test_targets = pd.read_csv('test_targets.csv', header=None)\n",
    "\n",
    "# Convert to numpy arrays\n",
    "train_inputs = train_inputs.to_numpy()\n",
    "train_targets = train_targets.to_numpy()\n",
    "\n",
    "test_inputs = test_inputs.to_numpy()\n",
    "test_targets = test_targets.to_numpy()\n"
   ]
  },
  {
   "cell_type": "code",
   "execution_count": 4,
   "id": "68906546",
   "metadata": {},
   "outputs": [],
   "source": [
    "class LinearModel():\n",
    "    def __init__(self, train_inputs, train_targets, iterations=1, learning_rate=0.01):\n",
    "        '''\n",
    "        # Linear Regression\n",
    "\n",
    "        Simple linear model that uses gradient descent to minimize the mean squared error (which is the loss function).\n",
    "        The number of iterations and the learning rate can be set when creating the model, but by default it's set to 1 and 0.01 respectively.\n",
    "        The iterations is the number of times the model will update the weights and intercept to minimize the loss function. Iterations is chosen to be 1 for this particular assignment.\n",
    "        The learning rate is the size of the step the model takes to minimize the loss function. It has a default value of 0.01, but should be changed according to the instructions of this assignment.\n",
    "        \n",
    "        ## Parameters\n",
    "        train_inputs : numpy array\n",
    "            The features of the training set\n",
    "        train_targets : numpy array\n",
    "            The targets of the training set\n",
    "        iterations : int\n",
    "            The number of iterations the model will update the weights and intercept\n",
    "        learning_rate : float\n",
    "            The size of the step the model takes to minimize the loss function\n",
    "        '''\n",
    "\n",
    "\n",
    "        self.train_inputs = train_inputs\n",
    "        self.train_targets = train_targets\n",
    "\n",
    "        # Get the number of features\n",
    "        self.num_weights = train_inputs.shape[1]\n",
    "\n",
    "        # Make the weights (initialized to 0, can randomize them as well, but will give different score for Test at the end)\n",
    "        self.weights = np.zeros((self.num_weights, 1))\n",
    "        self.intercept = 0\n",
    "\n",
    "        self.iterations = iterations\n",
    "        self.learning_rate = learning_rate\n",
    "\n",
    "    def predict(self, inputs):\n",
    "        '''\n",
    "        ## Parameters\n",
    "        inputs : numpy array\n",
    "            The features of the dataset\n",
    "        \n",
    "        ## Returns\n",
    "        numpy array\n",
    "            The predicted targets for given inputs based on the current weights and intercept\n",
    "        '''\n",
    "        # y = mx + b // predicted = intercept + weights[0] * features[0] + weights[1] * features[1]\n",
    "        y = self.intercept + np.dot(inputs, self.weights)\n",
    "        return y\n",
    "\n",
    "\n",
    "    def fit(self):\n",
    "        '''\n",
    "        Updates the weights and intercept to minimize the loss function using gradient descent for the specified number of iterations.\n",
    "        '''\n",
    "        for i in range(self.iterations):\n",
    "\n",
    "            predictions = self.predict(self.train_inputs) # train inputs = [ [1, 2], [3, 4], ... ], predictions = [1, 2, ...]\n",
    "\n",
    "            # Calculate error\n",
    "            error = self.train_targets - predictions\n",
    "\n",
    "            # Get derivative of loss function w.r.t. weights\n",
    "            train_inputs_transposed = np.transpose(self.train_inputs)\n",
    "            gradient_weights = -2 * np.dot(train_inputs_transposed, error)\n",
    "            gradient_weights = gradient_weights / self.train_inputs.shape[0]\n",
    "\n",
    "            # Calculate derivative of loss function w.r.t. intercept\n",
    "            gradient_intercept = -2 * np.mean(error)\n",
    "\n",
    "            # Update the weights and intercept\n",
    "            self.weights -= self.learning_rate * gradient_weights\n",
    "            self.intercept -= self.learning_rate * gradient_intercept\n",
    "\n",
    "\n",
    "\n",
    "    def score(self, test_inputs, test_targets):\n",
    "        '''\n",
    "        Tests the model on the test dataset passed to measure the performance of the model.\n",
    "\n",
    "        ## Parameters\n",
    "        test_inputs : numpy array\n",
    "            The features of the test set\n",
    "        test_targets : numpy array\n",
    "            The targets of the test set\n",
    "        \n",
    "        ## Returns\n",
    "        float\n",
    "            The mean squared error of the test set\n",
    "        '''\n",
    "        predictions = self.predict(test_inputs)\n",
    "        error = test_targets - predictions\n",
    "\n",
    "        # Mean squared error\n",
    "        return np.mean(error**2)"
   ]
  },
  {
   "cell_type": "code",
   "execution_count": 8,
   "id": "d3cc191c",
   "metadata": {},
   "outputs": [],
   "source": [
    "lr_scores = dict()\n",
    "\n",
    "# Test learning rates 0 -> 3\n",
    "for _lr in range(0, 31, 1):\n",
    "\n",
    "    # Score for each fold\n",
    "    fold_scores = []\n",
    "\n",
    "    lr = _lr / 10\n",
    "    # Helper function to split data into training and validation segments\n",
    "    kf = model_selection.KFold(n_splits=10, shuffle=False)\n",
    "\n",
    "    # i = fold number, train_index = indices of training data, test_index = indices of validation data\n",
    "    for i, (train_index, validation_index) in enumerate(kf.split(train_inputs)):\n",
    "\n",
    "        # Get all training inputs and targets for this fold (train_index is an array of indices of the data selected for training for this fold)\n",
    "        fold_train_inputs, fold_train_targets = train_inputs[train_index], train_targets[train_index]\n",
    "        # Get all validation inputs and targets for this fold (validation_index is an array of indices of the data selected for validation for this fold)\n",
    "        validation_inputs, validation_targets = train_inputs[validation_index], train_targets[validation_index]\n",
    "\n",
    "        # Create model\n",
    "        linModel = LinearModel(fold_train_inputs, fold_train_targets, learning_rate=lr)\n",
    "\n",
    "        # Train model\n",
    "        linModel.fit()\n",
    "\n",
    "        # Get score\n",
    "        score = linModel.score(validation_inputs, validation_targets)\n",
    "        fold_scores.append(score)\n",
    "    \n",
    "    lr_scores[lr] = np.mean(fold_scores)\n"
   ]
  },
  {
   "cell_type": "code",
   "execution_count": 6,
   "id": "896d7960",
   "metadata": {},
   "outputs": [
    {
     "name": "stdout",
     "output_type": "stream",
     "text": [
      "Best learning rate: 0.3\n"
     ]
    },
    {
     "data": {
      "image/png": "[encoded data removed]",
      "text/plain": [
       "<Figure size 640x480 with 1 Axes>"
      ]
     },
     "metadata": {},
     "output_type": "display_data"
    }
   ],
   "source": [
    "# Lowest loss\n",
    "best_lr = min(lr_scores, key=lr_scores.get)\n",
    "print(f\"Best learning rate: {best_lr}\")\n",
    "\n",
    "plt.bar(lr_scores.keys(), lr_scores.values())\n",
    "plt.title('Learning rate vs. Loss')\n",
    "plt.xlabel('Learning rate')\n",
    "plt.ylabel('Loss')\n",
    "plt.xlim(0, 3)\n",
    "plt.show()\n"
   ]
  },
  {
   "cell_type": "code",
   "execution_count": 7,
   "id": "93c6373a",
   "metadata": {},
   "outputs": [
    {
     "name": "stdout",
     "output_type": "stream",
     "text": [
      "Test score: 1.634944909191331\n"
     ]
    }
   ],
   "source": [
    "# Test model\n",
    "\n",
    "# Train the model with the best learning rate\n",
    "linModel = LinearModel(train_inputs, train_targets, learning_rate=best_lr)\n",
    "linModel.fit()\n",
    "\n",
    "# Measure the generalization / performance of our model on some testing data through .score( )\n",
    "test_score = linModel.score(test_inputs, test_targets)\n",
    "print(f\"Test score: {test_score}\")"
   ]
  }
 ],
 "metadata": {
  "kernelspec": {
   "display_name": "Python 3",
   "language": "python",
   "name": "python3"
  },
  "language_info": {
   "codemirror_mode": {
    "name": "ipython",
    "version": 3
   },
   "file_extension": ".py",
   "mimetype": "text/x-python",
   "name": "python",
   "nbconvert_exporter": "python",
   "pygments_lexer": "ipython3",
   "version": "3.11.0"
  }
 },
 "nbformat": 4,
 "nbformat_minor": 5
}
